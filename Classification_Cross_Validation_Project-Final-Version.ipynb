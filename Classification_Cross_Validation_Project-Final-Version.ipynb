{
 "cells": [
  {
   "cell_type": "code",
   "execution_count": 1,
   "id": "12c88b35",
   "metadata": {},
   "outputs": [],
   "source": [
    "import pandas as pd\n",
    "import numpy as np\n",
    "data= pd.read_csv('/Users/mikid/Downloads/mushrooms.csv')"
   ]
  },
  {
   "cell_type": "code",
   "execution_count": 2,
   "id": "2837d5fc",
   "metadata": {},
   "outputs": [],
   "source": [
    "data = data[['class', 'cap-color', 'bruises', 'odor', 'stalk-root','stalk-surface-above-ring','stalk-surface-below-ring','spore-print-color']]\n"
   ]
  },
  {
   "cell_type": "code",
   "execution_count": 3,
   "id": "b8c61670",
   "metadata": {},
   "outputs": [
    {
     "data": {
      "text/html": [
       "<div>\n",
       "<style scoped>\n",
       "    .dataframe tbody tr th:only-of-type {\n",
       "        vertical-align: middle;\n",
       "    }\n",
       "\n",
       "    .dataframe tbody tr th {\n",
       "        vertical-align: top;\n",
       "    }\n",
       "\n",
       "    .dataframe thead th {\n",
       "        text-align: right;\n",
       "    }\n",
       "</style>\n",
       "<table border=\"1\" class=\"dataframe\">\n",
       "  <thead>\n",
       "    <tr style=\"text-align: right;\">\n",
       "      <th></th>\n",
       "      <th>class</th>\n",
       "      <th>cap-color</th>\n",
       "      <th>bruises</th>\n",
       "      <th>odor</th>\n",
       "      <th>stalk-root</th>\n",
       "      <th>stalk-surface-above-ring</th>\n",
       "      <th>stalk-surface-below-ring</th>\n",
       "      <th>spore-print-color</th>\n",
       "    </tr>\n",
       "  </thead>\n",
       "  <tbody>\n",
       "    <tr>\n",
       "      <th>0</th>\n",
       "      <td>p</td>\n",
       "      <td>n</td>\n",
       "      <td>t</td>\n",
       "      <td>p</td>\n",
       "      <td>e</td>\n",
       "      <td>s</td>\n",
       "      <td>s</td>\n",
       "      <td>k</td>\n",
       "    </tr>\n",
       "    <tr>\n",
       "      <th>1</th>\n",
       "      <td>e</td>\n",
       "      <td>y</td>\n",
       "      <td>t</td>\n",
       "      <td>a</td>\n",
       "      <td>c</td>\n",
       "      <td>s</td>\n",
       "      <td>s</td>\n",
       "      <td>n</td>\n",
       "    </tr>\n",
       "    <tr>\n",
       "      <th>2</th>\n",
       "      <td>e</td>\n",
       "      <td>w</td>\n",
       "      <td>t</td>\n",
       "      <td>l</td>\n",
       "      <td>c</td>\n",
       "      <td>s</td>\n",
       "      <td>s</td>\n",
       "      <td>n</td>\n",
       "    </tr>\n",
       "    <tr>\n",
       "      <th>3</th>\n",
       "      <td>p</td>\n",
       "      <td>w</td>\n",
       "      <td>t</td>\n",
       "      <td>p</td>\n",
       "      <td>e</td>\n",
       "      <td>s</td>\n",
       "      <td>s</td>\n",
       "      <td>k</td>\n",
       "    </tr>\n",
       "    <tr>\n",
       "      <th>4</th>\n",
       "      <td>e</td>\n",
       "      <td>g</td>\n",
       "      <td>f</td>\n",
       "      <td>n</td>\n",
       "      <td>e</td>\n",
       "      <td>s</td>\n",
       "      <td>s</td>\n",
       "      <td>n</td>\n",
       "    </tr>\n",
       "  </tbody>\n",
       "</table>\n",
       "</div>"
      ],
      "text/plain": [
       "  class cap-color bruises odor stalk-root stalk-surface-above-ring  \\\n",
       "0     p         n       t    p          e                        s   \n",
       "1     e         y       t    a          c                        s   \n",
       "2     e         w       t    l          c                        s   \n",
       "3     p         w       t    p          e                        s   \n",
       "4     e         g       f    n          e                        s   \n",
       "\n",
       "  stalk-surface-below-ring spore-print-color  \n",
       "0                        s                 k  \n",
       "1                        s                 n  \n",
       "2                        s                 n  \n",
       "3                        s                 k  \n",
       "4                        s                 n  "
      ]
     },
     "execution_count": 3,
     "metadata": {},
     "output_type": "execute_result"
    }
   ],
   "source": [
    "data.head()"
   ]
  },
  {
   "cell_type": "code",
   "execution_count": 4,
   "id": "22715206",
   "metadata": {},
   "outputs": [],
   "source": [
    "data[\"class\"].replace([\"e\", \"p\"], [0, 1], inplace= True)"
   ]
  },
  {
   "cell_type": "code",
   "execution_count": 5,
   "id": "14101551",
   "metadata": {},
   "outputs": [
    {
     "data": {
      "text/html": [
       "<div>\n",
       "<style scoped>\n",
       "    .dataframe tbody tr th:only-of-type {\n",
       "        vertical-align: middle;\n",
       "    }\n",
       "\n",
       "    .dataframe tbody tr th {\n",
       "        vertical-align: top;\n",
       "    }\n",
       "\n",
       "    .dataframe thead tr th {\n",
       "        text-align: left;\n",
       "    }\n",
       "</style>\n",
       "<table border=\"1\" class=\"dataframe\">\n",
       "  <thead>\n",
       "    <tr>\n",
       "      <th></th>\n",
       "      <th>class</th>\n",
       "      <th colspan=\"9\" halign=\"left\">cap-color</th>\n",
       "      <th>...</th>\n",
       "      <th colspan=\"2\" halign=\"left\">stalk-surface-below-ring</th>\n",
       "      <th colspan=\"8\" halign=\"left\">spore-print-color</th>\n",
       "    </tr>\n",
       "    <tr>\n",
       "      <th></th>\n",
       "      <th>1</th>\n",
       "      <th>c</th>\n",
       "      <th>e</th>\n",
       "      <th>g</th>\n",
       "      <th>n</th>\n",
       "      <th>p</th>\n",
       "      <th>r</th>\n",
       "      <th>u</th>\n",
       "      <th>w</th>\n",
       "      <th>y</th>\n",
       "      <th>...</th>\n",
       "      <th>s</th>\n",
       "      <th>y</th>\n",
       "      <th>h</th>\n",
       "      <th>k</th>\n",
       "      <th>n</th>\n",
       "      <th>o</th>\n",
       "      <th>r</th>\n",
       "      <th>u</th>\n",
       "      <th>w</th>\n",
       "      <th>y</th>\n",
       "    </tr>\n",
       "  </thead>\n",
       "  <tbody>\n",
       "    <tr>\n",
       "      <th>0</th>\n",
       "      <td>1</td>\n",
       "      <td>0</td>\n",
       "      <td>0</td>\n",
       "      <td>0</td>\n",
       "      <td>1</td>\n",
       "      <td>0</td>\n",
       "      <td>0</td>\n",
       "      <td>0</td>\n",
       "      <td>0</td>\n",
       "      <td>0</td>\n",
       "      <td>...</td>\n",
       "      <td>1</td>\n",
       "      <td>0</td>\n",
       "      <td>0</td>\n",
       "      <td>1</td>\n",
       "      <td>0</td>\n",
       "      <td>0</td>\n",
       "      <td>0</td>\n",
       "      <td>0</td>\n",
       "      <td>0</td>\n",
       "      <td>0</td>\n",
       "    </tr>\n",
       "    <tr>\n",
       "      <th>1</th>\n",
       "      <td>0</td>\n",
       "      <td>0</td>\n",
       "      <td>0</td>\n",
       "      <td>0</td>\n",
       "      <td>0</td>\n",
       "      <td>0</td>\n",
       "      <td>0</td>\n",
       "      <td>0</td>\n",
       "      <td>0</td>\n",
       "      <td>1</td>\n",
       "      <td>...</td>\n",
       "      <td>1</td>\n",
       "      <td>0</td>\n",
       "      <td>0</td>\n",
       "      <td>0</td>\n",
       "      <td>1</td>\n",
       "      <td>0</td>\n",
       "      <td>0</td>\n",
       "      <td>0</td>\n",
       "      <td>0</td>\n",
       "      <td>0</td>\n",
       "    </tr>\n",
       "    <tr>\n",
       "      <th>2</th>\n",
       "      <td>0</td>\n",
       "      <td>0</td>\n",
       "      <td>0</td>\n",
       "      <td>0</td>\n",
       "      <td>0</td>\n",
       "      <td>0</td>\n",
       "      <td>0</td>\n",
       "      <td>0</td>\n",
       "      <td>1</td>\n",
       "      <td>0</td>\n",
       "      <td>...</td>\n",
       "      <td>1</td>\n",
       "      <td>0</td>\n",
       "      <td>0</td>\n",
       "      <td>0</td>\n",
       "      <td>1</td>\n",
       "      <td>0</td>\n",
       "      <td>0</td>\n",
       "      <td>0</td>\n",
       "      <td>0</td>\n",
       "      <td>0</td>\n",
       "    </tr>\n",
       "    <tr>\n",
       "      <th>3</th>\n",
       "      <td>1</td>\n",
       "      <td>0</td>\n",
       "      <td>0</td>\n",
       "      <td>0</td>\n",
       "      <td>0</td>\n",
       "      <td>0</td>\n",
       "      <td>0</td>\n",
       "      <td>0</td>\n",
       "      <td>1</td>\n",
       "      <td>0</td>\n",
       "      <td>...</td>\n",
       "      <td>1</td>\n",
       "      <td>0</td>\n",
       "      <td>0</td>\n",
       "      <td>1</td>\n",
       "      <td>0</td>\n",
       "      <td>0</td>\n",
       "      <td>0</td>\n",
       "      <td>0</td>\n",
       "      <td>0</td>\n",
       "      <td>0</td>\n",
       "    </tr>\n",
       "    <tr>\n",
       "      <th>4</th>\n",
       "      <td>0</td>\n",
       "      <td>0</td>\n",
       "      <td>0</td>\n",
       "      <td>1</td>\n",
       "      <td>0</td>\n",
       "      <td>0</td>\n",
       "      <td>0</td>\n",
       "      <td>0</td>\n",
       "      <td>0</td>\n",
       "      <td>0</td>\n",
       "      <td>...</td>\n",
       "      <td>1</td>\n",
       "      <td>0</td>\n",
       "      <td>0</td>\n",
       "      <td>0</td>\n",
       "      <td>1</td>\n",
       "      <td>0</td>\n",
       "      <td>0</td>\n",
       "      <td>0</td>\n",
       "      <td>0</td>\n",
       "      <td>0</td>\n",
       "    </tr>\n",
       "  </tbody>\n",
       "</table>\n",
       "<p>5 rows × 37 columns</p>\n",
       "</div>"
      ],
      "text/plain": [
       "  class cap-color                          ... stalk-surface-below-ring     \\\n",
       "      1         c  e  g  n  p  r  u  w  y  ...                        s  y   \n",
       "0     1         0  0  0  1  0  0  0  0  0  ...                        1  0   \n",
       "1     0         0  0  0  0  0  0  0  0  1  ...                        1  0   \n",
       "2     0         0  0  0  0  0  0  0  1  0  ...                        1  0   \n",
       "3     1         0  0  0  0  0  0  0  1  0  ...                        1  0   \n",
       "4     0         0  0  1  0  0  0  0  0  0  ...                        1  0   \n",
       "\n",
       "  spore-print-color                       \n",
       "                  h  k  n  o  r  u  w  y  \n",
       "0                 0  1  0  0  0  0  0  0  \n",
       "1                 0  0  1  0  0  0  0  0  \n",
       "2                 0  0  1  0  0  0  0  0  \n",
       "3                 0  1  0  0  0  0  0  0  \n",
       "4                 0  0  1  0  0  0  0  0  \n",
       "\n",
       "[5 rows x 37 columns]"
      ]
     },
     "execution_count": 5,
     "metadata": {},
     "output_type": "execute_result"
    }
   ],
   "source": [
    "# Use One Hot Encoding to change X-train categorical data to 0 and 1's\n",
    "data = pd.concat([pd.get_dummies(data[col], drop_first = True) for col in data], axis=1, keys=data.columns)\n",
    "data.head()"
   ]
  },
  {
   "cell_type": "code",
   "execution_count": 6,
   "id": "04baf69b",
   "metadata": {},
   "outputs": [
    {
     "name": "stdout",
     "output_type": "stream",
     "text": [
      "(8124,)\n"
     ]
    }
   ],
   "source": [
    "X = data.drop(columns = 'class', axis = 1)\n",
    "y = data['class']\n",
    "y=y.squeeze()\n",
    "print(y.shape)\n"
   ]
  },
  {
   "cell_type": "code",
   "execution_count": 7,
   "id": "1df920ea",
   "metadata": {},
   "outputs": [
    {
     "data": {
      "text/plain": [
       "3916"
      ]
     },
     "execution_count": 7,
     "metadata": {},
     "output_type": "execute_result"
    }
   ],
   "source": [
    "np.sum(y)"
   ]
  },
  {
   "cell_type": "code",
   "execution_count": 8,
   "id": "943fef3c",
   "metadata": {},
   "outputs": [],
   "source": [
    "from sklearn.datasets import make_classification\n",
    "from sklearn.preprocessing import StandardScaler\n",
    "from sklearn.model_selection import train_test_split\n",
    "from sklearn.linear_model import LogisticRegression\n",
    "from matplotlib import pyplot\n",
    "from sklearn.metrics import precision_score, recall_score, accuracy_score, roc_auc_score\n",
    "from sklearn.metrics import confusion_matrix\n",
    "from sklearn.tree import DecisionTreeClassifier\n",
    "from sklearn.ensemble import RandomForestRegressor\n",
    "from sklearn.neighbors import KNeighborsClassifier\n",
    "from sklearn.inspection import permutation_importance\n",
    "from sklearn.metrics import classification_report\n",
    "from matplotlib import pyplot"
   ]
  },
  {
   "cell_type": "code",
   "execution_count": 9,
   "id": "bc5f2187",
   "metadata": {},
   "outputs": [],
   "source": [
    "# split trainig and test dataset\n",
    "from sklearn.model_selection import train_test_split\n",
    "X_train, X_test, y_train, y_test = train_test_split(X, y, test_size=0.4, random_state=42)"
   ]
  },
  {
   "cell_type": "markdown",
   "id": "59fd9ee7",
   "metadata": {},
   "source": [
    "Modelling"
   ]
  },
  {
   "cell_type": "code",
   "execution_count": 10,
   "id": "7ba79ea4",
   "metadata": {},
   "outputs": [],
   "source": [
    "scalar = StandardScaler()\n",
    "X = pd.DataFrame(scalar.fit_transform(X), columns = X.columns)"
   ]
  },
  {
   "cell_type": "markdown",
   "id": "aa38c99b",
   "metadata": {},
   "source": [
    "# Model: Logistic Regression"
   ]
  },
  {
   "cell_type": "code",
   "execution_count": 11,
   "id": "e99063ea",
   "metadata": {},
   "outputs": [
    {
     "name": "stdout",
     "output_type": "stream",
     "text": [
      "Feature: 0, Score: -0.33076\n",
      "Feature: 1, Score: 0.14777\n",
      "Feature: 2, Score: -0.31004\n",
      "Feature: 3, Score: -0.46919\n",
      "Feature: 4, Score: -0.18323\n",
      "Feature: 5, Score: -0.04208\n",
      "Feature: 6, Score: -0.04208\n",
      "Feature: 7, Score: 0.67156\n",
      "Feature: 8, Score: 0.94161\n",
      "Feature: 9, Score: 0.38404\n",
      "Feature: 10, Score: 2.21868\n",
      "Feature: 11, Score: 3.57684\n",
      "Feature: 12, Score: -0.61134\n",
      "Feature: 13, Score: 0.06210\n",
      "Feature: 14, Score: -2.29697\n",
      "Feature: 15, Score: 2.35777\n",
      "Feature: 16, Score: 2.24106\n",
      "Feature: 17, Score: 2.24106\n",
      "Feature: 18, Score: 1.64168\n",
      "Feature: 19, Score: 0.64506\n",
      "Feature: 20, Score: 1.16259\n",
      "Feature: 21, Score: -1.28462\n",
      "Feature: 22, Score: 0.28289\n",
      "Feature: 23, Score: 0.15639\n",
      "Feature: 24, Score: -0.43328\n",
      "Feature: 25, Score: -0.05702\n",
      "Feature: 26, Score: -0.05848\n",
      "Feature: 27, Score: 1.83816\n",
      "Feature: 28, Score: 1.13775\n",
      "Feature: 29, Score: -1.80871\n",
      "Feature: 30, Score: -1.92012\n",
      "Feature: 31, Score: -0.00339\n",
      "Feature: 32, Score: 1.30350\n",
      "Feature: 33, Score: -0.50541\n",
      "Feature: 34, Score: 2.29509\n",
      "Feature: 35, Score: -0.00339\n"
     ]
    },
    {
     "data": {
      "image/png": "[encoded data removed]",
      "text/plain": [
       "<Figure size 432x288 with 1 Axes>"
      ]
     },
     "metadata": {
      "needs_background": "light"
     },
     "output_type": "display_data"
    },
    {
     "name": "stdout",
     "output_type": "stream",
     "text": [
      "[[1636   42]\n",
      " [  22 1550]]\n",
      "              precision    recall  f1-score   support\n",
      "\n",
      "           0       0.99      0.97      0.98      1678\n",
      "           1       0.97      0.99      0.98      1572\n",
      "\n",
      "    accuracy                           0.98      3250\n",
      "   macro avg       0.98      0.98      0.98      3250\n",
      "weighted avg       0.98      0.98      0.98      3250\n",
      "\n"
     ]
    },
    {
     "data": {
      "image/png": "[encoded data removed]",
      "text/plain": [
       "<Figure size 576x576 with 1 Axes>"
      ]
     },
     "metadata": {
      "needs_background": "light"
     },
     "output_type": "display_data"
    }
   ],
   "source": [
    "\n",
    "\n",
    "# define the model\n",
    "model = LogisticRegression()\n",
    "# fit the model\n",
    "model.fit(X, y)\n",
    "# get importance\n",
    "importance = model.coef_[0]\n",
    "# summarize feature importance\n",
    "for i,v in enumerate(importance):\n",
    "\tprint('Feature: %0d, Score: %.5f' % (i,v))\n",
    "# plot feature importance\n",
    "pyplot.bar([x for x in range(len(importance))], importance)\n",
    "pyplot.show()\n",
    "predictions = model.predict(X_test)\n",
    "print(confusion_matrix(y_test, predictions))\n",
    "print(classification_report(y_test,predictions))\n",
    "cm = confusion_matrix(y_test,predictions)\n",
    "\n",
    "fig, ax = pyplot.subplots(figsize=(8, 8))\n",
    "ax.imshow(cm)\n",
    "ax.grid(False)\n",
    "ax.xaxis.set(ticks=(0, 1), ticklabels=('Predicted 0s', 'Predicted 1s'))\n",
    "ax.yaxis.set(ticks=(0, 1), ticklabels=('Actual 0s', 'Actual 1s'))\n",
    "ax.set_ylim(1.5, -0.5)\n",
    "for i in range(2):\n",
    "    for j in range(2):\n",
    "        ax.text(j, i, cm[i, j], ha='center', va='center', color='red')\n",
    "pyplot.show()"
   ]
  },
  {
   "cell_type": "markdown",
   "id": "0ab5d42d",
   "metadata": {},
   "source": [
    "# Evaluation: Logistic Regression model using k-fold cross-validation"
   ]
  },
  {
   "cell_type": "code",
   "execution_count": 17,
   "id": "6494126a",
   "metadata": {},
   "outputs": [
    {
     "name": "stdout",
     "output_type": "stream",
     "text": [
      "Accuracy: 0.999 (0.001)\n"
     ]
    }
   ],
   "source": [
    "# evaluate a logistic regression model using k-fold cross-validation\n",
    "from numpy import mean\n",
    "from numpy import std\n",
    "from sklearn.datasets import make_classification\n",
    "from sklearn.model_selection import (KFold, RepeatedKFold)\n",
    "from sklearn.model_selection import cross_val_score\n",
    "\n",
    "# prepare the cross-validation procedure\n",
    "cv = RepeatedKFold(n_splits=10, n_repeats=10, random_state=1)\n",
    "# create model\n",
    "model = LogisticRegression()\n",
    "# evaluate model\n",
    "scores = cross_val_score(model, X, y, scoring='accuracy', cv=cv, n_jobs=-1)\n",
    "# report performance\n",
    "print('Accuracy: %.3f (%.3f)' % (mean(scores), std(scores)))"
   ]
  },
  {
   "cell_type": "markdown",
   "id": "494e30e2",
   "metadata": {},
   "source": [
    "# Model: KneighborsClassifier()"
   ]
  },
  {
   "cell_type": "code",
   "execution_count": 29,
   "id": "7a208e66",
   "metadata": {},
   "outputs": [
    {
     "name": "stdout",
     "output_type": "stream",
     "text": [
      "Feature: 0, Score: 0.00281\n",
      "Feature: 1, Score: 0.00000\n",
      "Feature: 2, Score: 0.00000\n",
      "Feature: 3, Score: 0.00000\n",
      "Feature: 4, Score: 0.00709\n",
      "Feature: 5, Score: 0.00111\n",
      "Feature: 6, Score: 0.00113\n",
      "Feature: 7, Score: 0.00194\n",
      "Feature: 8, Score: 0.00000\n",
      "Feature: 9, Score: 0.00209\n",
      "Feature: 10, Score: 0.03323\n",
      "Feature: 11, Score: 0.00000\n",
      "Feature: 12, Score: 0.00044\n",
      "Feature: 13, Score: 0.00379\n",
      "Feature: 14, Score: 0.00000\n",
      "Feature: 15, Score: 0.04220\n",
      "Feature: 16, Score: 0.00357\n",
      "Feature: 17, Score: 0.00335\n",
      "Feature: 18, Score: 0.00000\n",
      "Feature: 19, Score: 0.00000\n",
      "Feature: 20, Score: 0.00000\n",
      "Feature: 21, Score: 0.01164\n",
      "Feature: 22, Score: 0.00000\n",
      "Feature: 23, Score: 0.00000\n",
      "Feature: 24, Score: 0.00335\n",
      "Feature: 25, Score: 0.00000\n",
      "Feature: 26, Score: 0.00000\n",
      "Feature: 27, Score: 0.00694\n",
      "Feature: 28, Score: 0.00000\n",
      "Feature: 29, Score: 0.00000\n",
      "Feature: 30, Score: 0.00000\n",
      "Feature: 31, Score: 0.00290\n",
      "Feature: 32, Score: 0.01036\n",
      "Feature: 33, Score: 0.00266\n",
      "Feature: 34, Score: 0.00000\n",
      "Feature: 35, Score: 0.00266\n"
     ]
    },
    {
     "data": {
      "image/png": "[encoded data removed]",
      "text/plain": [
       "<Figure size 432x288 with 1 Axes>"
      ]
     },
     "metadata": {
      "needs_background": "light"
     },
     "output_type": "display_data"
    },
    {
     "name": "stdout",
     "output_type": "stream",
     "text": [
      "[[1365    0]\n",
      " [  47 1269]]\n",
      "              precision    recall  f1-score   support\n",
      "\n",
      "           0       0.97      1.00      0.98      1365\n",
      "           1       1.00      0.96      0.98      1316\n",
      "\n",
      "    accuracy                           0.98      2681\n",
      "   macro avg       0.98      0.98      0.98      2681\n",
      "weighted avg       0.98      0.98      0.98      2681\n",
      "\n"
     ]
    }
   ],
   "source": [
    "\n",
    "# permutation feature importance with knn for classification\n",
    "from sklearn.datasets import make_classification\n",
    "from sklearn.neighbors import KNeighborsClassifier\n",
    "from sklearn.inspection import permutation_importance\n",
    "\n",
    "# define the model\n",
    "model = KNeighborsClassifier()\n",
    "# fit the model\n",
    "model.fit(X, y)\n",
    "# perform permutation importance\n",
    "results = permutation_importance(model, X, y, scoring='accuracy')\n",
    "# get importance\n",
    "importance = results.importances_mean\n",
    "# summarize feature importance\n",
    "for i,v in enumerate(importance):\n",
    "\tprint('Feature: %0d, Score: %.5f' % (i,v))\n",
    "\n",
    "pyplot.bar([x for x in range(len(importance))], importance)\n",
    "pyplot.show()\n",
    "print(confusion_matrix(y_test, predictions))\n",
    "print(classification_report(y_test,predictions ))"
   ]
  },
  {
   "cell_type": "markdown",
   "id": "f1bf1d0f",
   "metadata": {},
   "source": [
    "# Evaluation:  KNeighbors model using k-fold cross-validation"
   ]
  },
  {
   "cell_type": "code",
   "execution_count": 30,
   "id": "392ea9f9",
   "metadata": {},
   "outputs": [
    {
     "name": "stdout",
     "output_type": "stream",
     "text": [
      "Accuracy: 1.000 (0.000)\n"
     ]
    }
   ],
   "source": [
    "# evaluate a KNeighbors model using k-fold cross-validation\n",
    "from numpy import mean\n",
    "from numpy import std\n",
    "from sklearn.datasets import make_classification\n",
    "from sklearn.model_selection import (KFold, RepeatedKFold)\n",
    "from sklearn.model_selection import cross_val_score\n",
    "\n",
    "# prepare the cross-validation procedure\n",
    "cv = RepeatedKFold(n_splits=10, n_repeats=10, random_state=1)\n",
    "# create model\n",
    "model = KNeighborsClassifier()\n",
    "# evaluate model\n",
    "scores = cross_val_score(model, X, y, scoring='accuracy', cv=cv, n_jobs=-1)\n",
    "# report performance\n",
    "print('Accuracy: %.3f (%.3f)' % (mean(scores), std(scores)))"
   ]
  },
  {
   "cell_type": "markdown",
   "id": "9da82bd8",
   "metadata": {},
   "source": [
    "# Model: Decision Tree "
   ]
  },
  {
   "cell_type": "code",
   "execution_count": 20,
   "id": "3567e5b3",
   "metadata": {},
   "outputs": [
    {
     "name": "stdout",
     "output_type": "stream",
     "text": [
      "Feature: 0, Score: 0.00000\n",
      "Feature: 1, Score: 0.00000\n",
      "Feature: 2, Score: 0.00000\n",
      "Feature: 3, Score: 0.00000\n",
      "Feature: 4, Score: 0.00000\n",
      "Feature: 5, Score: 0.00000\n",
      "Feature: 6, Score: 0.00000\n",
      "Feature: 7, Score: 0.00042\n",
      "Feature: 8, Score: 0.00507\n",
      "Feature: 9, Score: 0.00817\n",
      "Feature: 10, Score: 0.00000\n",
      "Feature: 11, Score: 0.00000\n",
      "Feature: 12, Score: 0.01161\n",
      "Feature: 13, Score: 0.00000\n",
      "Feature: 14, Score: 0.61710\n",
      "Feature: 15, Score: 0.00000\n",
      "Feature: 16, Score: 0.00000\n",
      "Feature: 17, Score: 0.00000\n",
      "Feature: 18, Score: 0.00659\n",
      "Feature: 19, Score: 0.17729\n",
      "Feature: 20, Score: 0.00000\n",
      "Feature: 21, Score: 0.08573\n",
      "Feature: 22, Score: 0.01658\n",
      "Feature: 23, Score: 0.00000\n",
      "Feature: 24, Score: 0.00000\n",
      "Feature: 25, Score: 0.00000\n",
      "Feature: 26, Score: 0.00000\n",
      "Feature: 27, Score: 0.01377\n",
      "Feature: 28, Score: 0.00000\n",
      "Feature: 29, Score: 0.00000\n",
      "Feature: 30, Score: 0.00107\n",
      "Feature: 31, Score: 0.00000\n",
      "Feature: 32, Score: 0.03381\n",
      "Feature: 33, Score: 0.02278\n",
      "Feature: 34, Score: 0.00000\n",
      "Feature: 35, Score: 0.00000\n"
     ]
    },
    {
     "data": {
      "image/png": "[encoded data removed]",
      "text/plain": [
       "<Figure size 432x288 with 1 Axes>"
      ]
     },
     "metadata": {
      "needs_background": "light"
     },
     "output_type": "display_data"
    },
    {
     "name": "stdout",
     "output_type": "stream",
     "text": [
      "[[1636   42]\n",
      " [  22 1550]]\n",
      "              precision    recall  f1-score   support\n",
      "\n",
      "           0       0.99      0.97      0.98      1678\n",
      "           1       0.97      0.99      0.98      1572\n",
      "\n",
      "    accuracy                           0.98      3250\n",
      "   macro avg       0.98      0.98      0.98      3250\n",
      "weighted avg       0.98      0.98      0.98      3250\n",
      "\n"
     ]
    }
   ],
   "source": [
    "\n",
    "# decision tree for feature importance on a classification problem\n",
    "model = DecisionTreeClassifier()\n",
    "# fit the model\n",
    "model.fit(X, y)\n",
    "# get importance\n",
    "importance = model.feature_importances_\n",
    "# summarize feature importance\n",
    "for i,v in enumerate(importance):\n",
    "\tprint('Feature: %0d, Score: %.5f' % (i,v))\n",
    "# plot feature importance\n",
    "pyplot.bar([x for x in range(len(importance))], importance)\n",
    "pyplot.show()\n",
    "print(confusion_matrix(y_test, predictions))\n",
    "print(classification_report(y_test,predictions ))"
   ]
  },
  {
   "cell_type": "markdown",
   "id": "8e743965",
   "metadata": {},
   "source": [
    "# Evaluation: Decision Tree model using k-fold cross-validation"
   ]
  },
  {
   "cell_type": "code",
   "execution_count": 21,
   "id": "afca1d8d",
   "metadata": {},
   "outputs": [
    {
     "name": "stdout",
     "output_type": "stream",
     "text": [
      "Accuracy: 1.000 (0.000)\n"
     ]
    }
   ],
   "source": [
    "# evaluate a decision tree model using k-fold cross-validation\n",
    "from numpy import mean\n",
    "from numpy import std\n",
    "from sklearn.datasets import make_classification\n",
    "from sklearn.model_selection import KFold\n",
    "from sklearn.model_selection import cross_val_score\n",
    "\n",
    "# prepare the cross-validation procedure\n",
    "cv = RepeatedKFold(n_splits=10, n_repeats=10, random_state=1)\n",
    "# create model\n",
    "model = model = DecisionTreeClassifier()\n",
    "# evaluate model\n",
    "scores = cross_val_score(model, X, y, scoring='accuracy', cv=cv, n_jobs=-1)\n",
    "# report performance\n",
    "print('Accuracy: %.3f (%.3f)' % (mean(scores), std(scores)))"
   ]
  },
  {
   "cell_type": "markdown",
   "id": "fa1c16a1",
   "metadata": {},
   "source": [
    "# Model: Random Forest"
   ]
  },
  {
   "cell_type": "code",
   "execution_count": 44,
   "id": "e15a4296",
   "metadata": {},
   "outputs": [
    {
     "name": "stdout",
     "output_type": "stream",
     "text": [
      "Feature: 0, Score: 0.00047\n",
      "Feature: 1, Score: 0.00827\n",
      "Feature: 2, Score: 0.00873\n",
      "Feature: 3, Score: 0.00754\n",
      "Feature: 4, Score: 0.00508\n",
      "Feature: 5, Score: 0.00020\n",
      "Feature: 6, Score: 0.00017\n",
      "Feature: 7, Score: 0.01529\n",
      "Feature: 8, Score: 0.01336\n",
      "Feature: 9, Score: 0.06424\n",
      "Feature: 10, Score: 0.02079\n",
      "Feature: 11, Score: 0.10794\n",
      "Feature: 12, Score: 0.01408\n",
      "Feature: 13, Score: 0.00053\n",
      "Feature: 14, Score: 0.25902\n",
      "Feature: 15, Score: 0.03808\n",
      "Feature: 16, Score: 0.02166\n",
      "Feature: 17, Score: 0.02107\n",
      "Feature: 18, Score: 0.01495\n",
      "Feature: 19, Score: 0.02769\n",
      "Feature: 20, Score: 0.02959\n",
      "Feature: 21, Score: 0.00666\n",
      "Feature: 22, Score: 0.06899\n",
      "Feature: 23, Score: 0.02778\n",
      "Feature: 24, Score: 0.00076\n",
      "Feature: 25, Score: 0.05308\n",
      "Feature: 26, Score: 0.01388\n",
      "Feature: 27, Score: 0.01086\n",
      "Feature: 28, Score: 0.03637\n",
      "Feature: 29, Score: 0.01695\n",
      "Feature: 30, Score: 0.02147\n",
      "Feature: 31, Score: 0.00024\n",
      "Feature: 32, Score: 0.02138\n",
      "Feature: 33, Score: 0.00251\n",
      "Feature: 34, Score: 0.04011\n",
      "Feature: 35, Score: 0.00023\n"
     ]
    },
    {
     "data": {
      "image/png": "[encoded data removed]",
      "text/plain": [
       "<Figure size 432x288 with 1 Axes>"
      ]
     },
     "metadata": {
      "needs_background": "light"
     },
     "output_type": "display_data"
    },
    {
     "name": "stdout",
     "output_type": "stream",
     "text": [
      "[[1365    0]\n",
      " [   0 1316]]\n",
      "              precision    recall  f1-score   support\n",
      "\n",
      "           0       1.00      1.00      1.00      1365\n",
      "           1       1.00      1.00      1.00      1316\n",
      "\n",
      "    accuracy                           1.00      2681\n",
      "   macro avg       1.00      1.00      1.00      2681\n",
      "weighted avg       1.00      1.00      1.00      2681\n",
      "\n"
     ]
    },
    {
     "data": {
      "image/png": "[encoded data removed]",
      "text/plain": [
       "<Figure size 576x576 with 1 Axes>"
      ]
     },
     "metadata": {
      "needs_background": "light"
     },
     "output_type": "display_data"
    },
    {
     "data": {
      "image/png": "[encoded data removed]",
      "text/plain": [
       "<Figure size 720x1008 with 1 Axes>"
      ]
     },
     "metadata": {
      "needs_background": "light"
     },
     "output_type": "display_data"
    }
   ],
   "source": [
    "\n",
    "# random forest for feature importance on a classification problem\n",
    "from sklearn.datasets import make_classification\n",
    "from sklearn.ensemble import RandomForestClassifier\n",
    "from matplotlib import pyplot\n",
    "# define dataset\n",
    "\n",
    "# define the model\n",
    "model = RandomForestClassifier(n_estimators = 3000)\n",
    "# fit the model\n",
    "model.fit(X, y)\n",
    "# get importance\n",
    "importance = model.feature_importances_\n",
    "# summarize feature importance\n",
    "for i,v in enumerate(importance):\n",
    "\tprint('Feature: %0d, Score: %.5f' % (i,v))\n",
    "# plot feature importance\n",
    "pyplot.bar([x for x in range(len(importance))], importance)\n",
    "pyplot.show()\n",
    "predictions = model.predict(X_test)\n",
    "print(confusion_matrix(y_test, predictions))\n",
    "print(classification_report(y_test,predictions ))\n",
    "cm = confusion_matrix(y_test,predictions)\n",
    "\n",
    "fig, ax = pyplot.subplots(figsize=(8, 8))\n",
    "ax.imshow(cm)\n",
    "ax.grid(False)\n",
    "ax.xaxis.set(ticks=(0, 1), ticklabels=('Predicted 0s', 'Predicted 1s'))\n",
    "ax.yaxis.set(ticks=(0, 1), ticklabels=('Actual 0s', 'Actual 1s'))\n",
    "ax.set_ylim(1.5, -0.5)\n",
    "for i in range(2):\n",
    "    for j in range(2):\n",
    "        ax.text(j, i, cm[i, j], ha='center', va='center', color='red')\n",
    "pyplot.show()\n",
    "features_list = X.columns.values\n",
    "feature_importance = model.feature_importances_\n",
    "sorted_idx = np.argsort(feature_importance)\n",
    "\n",
    "pyplot.figure(figsize=(10,14))\n",
    "pyplot.barh(range(len(sorted_idx)), feature_importance[sorted_idx], align='center')\n",
    "pyplot.yticks(range(len(sorted_idx)), features_list[sorted_idx])\n",
    "pyplot.xlabel('Importance')\n",
    "pyplot.title('Feature importances')\n",
    "pyplot.draw()\n",
    "pyplot.show()"
   ]
  },
  {
   "cell_type": "markdown",
   "id": "94aa0e3f",
   "metadata": {},
   "source": [
    "# Evaluation: Random Tree model using k-fold cross-validation"
   ]
  },
  {
   "cell_type": "code",
   "execution_count": 23,
   "id": "ea8571b3",
   "metadata": {},
   "outputs": [
    {
     "name": "stdout",
     "output_type": "stream",
     "text": [
      "Accuracy: 1.00 (0.00)\n"
     ]
    }
   ],
   "source": [
    "# evaluate a Random Forest model using k-fold cross-validation\n",
    "from numpy import mean\n",
    "from numpy import std\n",
    "from sklearn.datasets import make_classification\n",
    "from sklearn.model_selection import KFold\n",
    "from sklearn.model_selection import cross_val_score\n",
    "\n",
    "# prepare the cross-validation procedure\n",
    "cv = RepeatedKFold(n_splits=10, n_repeats=10, random_state=1)\n",
    "# create model\n",
    "model = RandomForestClassifier(n_estimators = 3000)\n",
    "# evaluate model\n",
    "scores = cross_val_score(model, X, y, scoring='accuracy', cv=cv, n_jobs=-1)\n",
    "# report performance\n",
    "print('Accuracy: %.2f (%.2f)' % (mean(scores), std(scores)))\n"
   ]
  },
  {
   "cell_type": "markdown",
   "id": "e6f842bf",
   "metadata": {},
   "source": [
    "# Model: XGboost"
   ]
  },
  {
   "cell_type": "code",
   "execution_count": 24,
   "id": "eca9d875",
   "metadata": {},
   "outputs": [
    {
     "name": "stdout",
     "output_type": "stream",
     "text": [
      "[21:42:18] WARNING: ../src/learner.cc:1095: Starting in XGBoost 1.3.0, the default evaluation metric used with the objective 'binary:logistic' was changed from 'error' to 'logloss'. Explicitly set eval_metric if you'd like to restore the old behavior.\n"
     ]
    },
    {
     "name": "stderr",
     "output_type": "stream",
     "text": [
      "/opt/anaconda3/envs/metis/lib/python3.8/site-packages/xgboost/sklearn.py:1146: UserWarning: The use of label encoder in XGBClassifier is deprecated and will be removed in a future release. To remove this warning, do the following: 1) Pass option use_label_encoder=False when constructing XGBClassifier object; and 2) Encode your labels (y) as integers starting with 0, i.e. 0, 1, 2, ..., [num_class - 1].\n",
      "  warnings.warn(label_encoder_deprecation_msg, UserWarning)\n"
     ]
    },
    {
     "name": "stdout",
     "output_type": "stream",
     "text": [
      "Feature: 0, Score: 0.00000\n",
      "Feature: 1, Score: 0.00000\n",
      "Feature: 2, Score: 0.00000\n",
      "Feature: 3, Score: 0.00010\n",
      "Feature: 4, Score: 0.00000\n",
      "Feature: 5, Score: 0.00000\n",
      "Feature: 6, Score: 0.00000\n",
      "Feature: 7, Score: 0.00090\n",
      "Feature: 8, Score: 0.00000\n",
      "Feature: 9, Score: 0.01559\n",
      "Feature: 10, Score: 0.00000\n",
      "Feature: 11, Score: 0.02639\n",
      "Feature: 12, Score: 0.03934\n",
      "Feature: 13, Score: 0.00000\n",
      "Feature: 14, Score: 0.14432\n",
      "Feature: 15, Score: 0.01769\n",
      "Feature: 16, Score: 0.00000\n",
      "Feature: 17, Score: 0.00000\n",
      "Feature: 18, Score: 0.00209\n",
      "Feature: 19, Score: 0.32944\n",
      "Feature: 20, Score: 0.00015\n",
      "Feature: 21, Score: 0.31794\n",
      "Feature: 22, Score: 0.00080\n",
      "Feature: 23, Score: 0.00015\n",
      "Feature: 24, Score: 0.00000\n",
      "Feature: 25, Score: 0.00191\n",
      "Feature: 26, Score: 0.00023\n",
      "Feature: 27, Score: 0.00961\n",
      "Feature: 28, Score: 0.00000\n",
      "Feature: 29, Score: 0.00016\n",
      "Feature: 30, Score: 0.00052\n",
      "Feature: 31, Score: 0.00000\n",
      "Feature: 32, Score: 0.02896\n",
      "Feature: 33, Score: 0.06300\n",
      "Feature: 34, Score: 0.00070\n",
      "Feature: 35, Score: 0.00000\n"
     ]
    },
    {
     "data": {
      "image/png": "[encoded data removed]",
      "text/plain": [
       "<Figure size 432x288 with 1 Axes>"
      ]
     },
     "metadata": {
      "needs_background": "light"
     },
     "output_type": "display_data"
    },
    {
     "name": "stdout",
     "output_type": "stream",
     "text": [
      "[[1678    0]\n",
      " [ 159 1413]]\n",
      "              precision    recall  f1-score   support\n",
      "\n",
      "           0       0.91      1.00      0.95      1678\n",
      "           1       1.00      0.90      0.95      1572\n",
      "\n",
      "    accuracy                           0.95      3250\n",
      "   macro avg       0.96      0.95      0.95      3250\n",
      "weighted avg       0.96      0.95      0.95      3250\n",
      "\n"
     ]
    },
    {
     "name": "stderr",
     "output_type": "stream",
     "text": [
      "/opt/anaconda3/envs/metis/lib/python3.8/site-packages/xgboost/data.py:112: UserWarning: Use subset (sliced data) of np.ndarray is not recommended because it will generate extra copies and increase memory consumption\n",
      "  warnings.warn(\n"
     ]
    }
   ],
   "source": [
    "# xgboost for feature importance on a classification problem\n",
    "from sklearn.datasets import make_classification\n",
    "from xgboost import XGBClassifier\n",
    "from matplotlib import pyplot\n",
    "# define dataset\n",
    "\n",
    "# define the model\n",
    "model = XGBClassifier()\n",
    "# fit the model\n",
    "model.fit(X, y)\n",
    "# get importance\n",
    "importance = model.feature_importances_\n",
    "# summarize feature importance\n",
    "for i,v in enumerate(importance):\n",
    "\tprint('Feature: %0d, Score: %.5f' % (i,v))\n",
    "# plot feature importance\n",
    "pyplot.bar([x for x in range(len(importance))], importance)\n",
    "pyplot.show()\n",
    "predictions = model.predict(X_test)\n",
    "print(confusion_matrix(y_test, predictions))\n",
    "print(classification_report(y_test,predictions ))"
   ]
  },
  {
   "cell_type": "markdown",
   "id": "bc988a77",
   "metadata": {},
   "source": [
    "# Evaluation: XGboost model using k-fold cross-validation"
   ]
  },
  {
   "cell_type": "code",
   "execution_count": 25,
   "id": "e03141fb",
   "metadata": {},
   "outputs": [
    {
     "name": "stdout",
     "output_type": "stream",
     "text": [
      "Accuracy: 1.00 (0.00)\n"
     ]
    }
   ],
   "source": [
    "# evaluate a Xgboost model using k-fold cross-validation\n",
    "from numpy import mean\n",
    "from numpy import std\n",
    "from sklearn.datasets import make_classification\n",
    "from sklearn.model_selection import (KFold, RepeatedKFold)\n",
    "from sklearn.model_selection import cross_val_score\n",
    "\n",
    "# prepare the cross-validation procedure\n",
    "cv = RepeatedKFold(n_splits=10, n_repeats=10, random_state=1)\n",
    "# create model\n",
    "model = XGBClassifier()\n",
    "# evaluate model\n",
    "scores = cross_val_score(model, X, y, scoring='accuracy', cv=cv, n_jobs=-1)\n",
    "# report performance\n",
    "print('Accuracy: %.2f (%.2f)' % (mean(scores), std(scores)))"
   ]
  },
  {
   "cell_type": "code",
   "execution_count": 26,
   "id": "2ebf2687",
   "metadata": {},
   "outputs": [],
   "source": [
    "# Feature Selection by sklearn SelectFromModel"
   ]
  },
  {
   "cell_type": "code",
   "execution_count": 42,
   "id": "f4b9ce93",
   "metadata": {},
   "outputs": [
    {
     "name": "stdout",
     "output_type": "stream",
     "text": [
      "Accuracy: 98.25\n",
      "Recall: 96.43\n",
      "[[1365    0]\n",
      " [  47 1269]]\n",
      "              precision    recall  f1-score   support\n",
      "\n",
      "           0       0.97      1.00      0.98      1365\n",
      "           1       1.00      0.96      0.98      1316\n",
      "\n",
      "    accuracy                           0.98      2681\n",
      "   macro avg       0.98      0.98      0.98      2681\n",
      "weighted avg       0.98      0.98      0.98      2681\n",
      "\n"
     ]
    }
   ],
   "source": [
    "\n",
    "# evaluation of a model using 5 features chosen with random forest importance\n",
    "from sklearn.datasets import make_classification\n",
    "from sklearn.model_selection import train_test_split\n",
    "from sklearn.feature_selection import SelectFromModel\n",
    "from sklearn.ensemble import RandomForestClassifier\n",
    "from sklearn.linear_model import LogisticRegression\n",
    "from sklearn.metrics import accuracy_score\n",
    "\n",
    "# feature selection\n",
    "def select_features(X_train, y_train, X_test):\n",
    "\t# configure to select a subset of features\n",
    "\tfs = SelectFromModel(RandomForestClassifier(n_estimators=3000), max_features=10)\n",
    "\t# learn relationship from training data\n",
    "\tfs.fit(X_train, y_train)\n",
    "\t# transform train input data\n",
    "\tX_train_fs = fs.transform(X_train)\n",
    "\t# transform test input data_\n",
    "\tX_test_fs = fs.transform(X_test)\n",
    "\treturn X_train_fs, X_test_fs, fs\n",
    "\n",
    "\n",
    "# split into train and test sets\n",
    "X_train, X_test, y_train, y_test = train_test_split(X, y, test_size=0.33, random_state=1)\n",
    "# feature selection\n",
    "X_train_fs, X_test_fs, fs = select_features(X_train, y_train, X_test)\n",
    "# fit the model\n",
    "model = LogisticRegression()\n",
    "model.fit(X_train_fs, y_train.values)\n",
    "\n",
    "# evaluate the model\n",
    "predictions = model.predict(X_test_fs)\n",
    "# evaluate predictions\n",
    "accuracy = accuracy_score(y_test, predictions)\n",
    "recall = recall_score(y_test, predictions)\n",
    "print('Accuracy: %.2f' % (accuracy*100))\n",
    "print('Recall: %.2f' % (recall*100))\n",
    "print(confusion_matrix(y_test, predictions))\n",
    "print(classification_report(y_test,predictions ))"
   ]
  },
  {
   "cell_type": "markdown",
   "id": "1fe2bd62",
   "metadata": {},
   "source": [
    "# Model: Random Forest, Examing the top 10 features"
   ]
  },
  {
   "cell_type": "code",
   "execution_count": 39,
   "id": "82d959c5",
   "metadata": {},
   "outputs": [
    {
     "name": "stdout",
     "output_type": "stream",
     "text": [
      "Accuracy: 98.25\n",
      "Recall: 96.43\n",
      "[[1365    0]\n",
      " [  47 1269]]\n",
      "              precision    recall  f1-score   support\n",
      "\n",
      "           0       0.97      1.00      0.98      1365\n",
      "           1       1.00      0.96      0.98      1316\n",
      "\n",
      "    accuracy                           0.98      2681\n",
      "   macro avg       0.98      0.98      0.98      2681\n",
      "weighted avg       0.98      0.98      0.98      2681\n",
      "\n"
     ]
    },
    {
     "data": {
      "image/png": "[encoded data removed]",
      "text/plain": [
       "<Figure size 360x504 with 1 Axes>"
      ]
     },
     "metadata": {
      "needs_background": "light"
     },
     "output_type": "display_data"
    }
   ],
   "source": [
    "#### # random forest for feature importance on a classification problem\n",
    "from sklearn.datasets import make_classification\n",
    "from sklearn.ensemble import RandomForestClassifier\n",
    "from matplotlib import pyplot\n",
    "from sklearn.feature_selection import SelectKBest\n",
    "# define dataset\n",
    "\n",
    "# define the model\n",
    "model = RandomForestClassifier(n_estimators=3000)\n",
    "\n",
    "# split into train and test sets\n",
    "X_train, X_test, y_train, y_test = train_test_split(X, y, test_size=0.33, random_state=1)\n",
    "# feature selection\n",
    "X_train_fs, X_test_fs, fs = select_features(X_train, y_train, X_test)\n",
    "# fit the model\n",
    "model = RandomForestClassifier(n_estimators=3000)\n",
    "model.fit(X_train_fs, y_train.values)\n",
    "\n",
    "# evaluate the model\n",
    "predictions = model.predict(X_test_fs)\n",
    "# evaluate predictions\n",
    "accuracy = accuracy_score(y_test, predictions)\n",
    "recall = recall_score(y_test, predictions)\n",
    "print('Accuracy: %.2f' % (accuracy*100))\n",
    "print('Recall: %.2f' % (recall*100))\n",
    "print(confusion_matrix(y_test, predictions))\n",
    "print(classification_report(y_test,predictions ))\n",
    "\n"
   ]
  },
  {
   "cell_type": "code",
   "execution_count": null,
   "id": "82bd7891",
   "metadata": {},
   "outputs": [],
   "source": []
  },
  {
   "cell_type": "code",
   "execution_count": null,
   "id": "dae8d91e",
   "metadata": {},
   "outputs": [],
   "source": []
  }
 ],
 "metadata": {
  "kernelspec": {
   "display_name": "Python [conda env:metis] *",
   "language": "python",
   "name": "conda-env-metis-py"
  },
  "language_info": {
   "codemirror_mode": {
    "name": "ipython",
    "version": 3
   },
   "file_extension": ".py",
   "mimetype": "text/x-python",
   "name": "python",
   "nbconvert_exporter": "python",
   "pygments_lexer": "ipython3",
   "version": "3.8.10"
  }
 },
 "nbformat": 4,
 "nbformat_minor": 5
}
